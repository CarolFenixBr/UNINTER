{
  "cells": [
    {
      "cell_type": "markdown",
      "metadata": {
        "id": "view-in-github",
        "colab_type": "text"
      },
      "source": [
        "<a href=\"https://colab.research.google.com/github/CarolFenixBr/UNINTER/blob/main/Atividade_Pr%C3%A1tica_1.ipynb\" target=\"_parent\"><img src=\"https://colab.research.google.com/assets/colab-badge.svg\" alt=\"Open In Colab\"/></a>"
      ]
    },
    {
      "cell_type": "code",
      "execution_count": null,
      "metadata": {
        "id": "-r2iNjLIRNI2"
      },
      "outputs": [],
      "source": [
        "class Calculadora: #classe chamada calculadora\n",
        "  def __init__(self):\n",
        "    self.num1=5\n",
        "    self.num2=9\n",
        "    self.result=0\n",
        "\n",
        "  #Função dentro da classe, operações matemáticas\n",
        "  def soma(self,num1,num2):  #definição de soma\n",
        "    self.num1=num1\n",
        "    self.num2=num2\n",
        "    self.result= self.num1 + self.num2\n",
        "    return self.result\n",
        "\n",
        "  def subtrair(self,num1,num2):    #definição para subtrair\n",
        "    self.num1=num1\n",
        "    self.num2=num2\n",
        "    self.result= self.num1 - self.num2\n",
        "    return self.result\n",
        "\n",
        "  def multiplicar(self,num1,num2):  #definição para a multiplicação\n",
        "    self.num1=num1\n",
        "    self.num2=num2\n",
        "    self.result= self.num1 * self.num2\n",
        "    return self.result\n",
        "\n",
        "  def dividir(self,num1,num2):    #definição para a divisão\n",
        "    self.num1=num1\n",
        "    self.num2=num2\n",
        "    self.result= self.num1 / self.num2\n",
        "    return self.result\n",
        "\n",
        "  def expoente(self,num1,num2):  #definição para o expoente\n",
        "    self.num1=num1\n",
        "    self.num2=num2\n",
        "    self.result= self.num1 ** self.num2\n",
        "    return self.result\n",
        "\n",
        "  def resto(self,num1,num2):     #definição para o resto\n",
        "    self.num1=num1\n",
        "    self.num2=num2\n",
        "    self.result= self.num1 % self.num2\n",
        "    return self.result\n",
        "\n",
        "def continuar(entrada):        #verificação se irá continuar ou não\n",
        "  if entrada:\n",
        "    return True\n",
        "  else:\n",
        "    return False\n",
        "\n",
        "def menu():                   # Definição para a apresentação do menu\n",
        "  opcao = {1: 'Adição',\n",
        "           2: 'Subtração',\n",
        "           3: 'Multiplicação',\n",
        "           4: 'Divisão',\n",
        "           5: 'Exponenciação',\n",
        "           6: 'Módulo(resto)'}\n",
        "  cal = Calculadora()\n",
        "  print(\"\"\"Qual é a operação matemática desejada?\n",
        "    1-> Adição\n",
        "    2-> Subtração\n",
        "    3-> Multiplicação\n",
        "    4-> Divisão\n",
        "    5-> Exponenciação\n",
        "    6-> Módulo(resto)\n",
        "    Digite o número desejado e apaerter ENTER\"\"\")\n",
        "  #criando uma nova variável, quando a calculadora for verdadeira\n",
        "  calcular = True\n",
        "  while calcular:\n",
        "    opc = input(\"\\nEscolha a opção de cálculo (1, 2, 3, 4, 5 ou 6)\") #implementação das opções\n",
        "    if not(opc in '1 2 3 4 5 6'):   #se não for estas opção irá aparecer a mensagem que está no print\n",
        "      print(\"Opção escolhida é inválida.\")\n",
        "      continue\n",
        "    else:\n",
        "      opc = int(opc)  #somente números inteiros\n",
        "      print(f\"Opção escolhida foi {opcao[opc]}.\")\n",
        "      print(\"Apenas números inteiros serão trabalhados!\")\n",
        "    if opc== 1:\n",
        "      num1= int(input(\"Digite o penúltimo número do seu RU:\"))\n",
        "      num2= int(input(\"Digite o último número do seu RU:\"))\n",
        "      result = cal.soma(num1, num2)\n",
        "      print(f\"O valor da operação adição é {result}\")\n",
        "      calcular = continuar(input(\"Digite alguma coisa para continuar ou apertar ENTER para sair da calculadora.\"))\n",
        "\n",
        "    if opc== 2:\n",
        "      num1= int(input(\"Digite o penúltimo número do seu RU:\"))\n",
        "      num2= int(input(\"Digite o último número do seu RU:\"))\n",
        "      result = cal.subtrair(num1, num2)\n",
        "      print(f\"O valor da operação subtração é {result}\")\n",
        "      calcular = continuar(input(\"Digite alguma coisa para continuar ou apertar ENTER para sair da calculadora.\"))\n",
        "\n",
        "    if opc== 3:\n",
        "      num1= int(input(\"Digite o penúltimo número do seu RU:\"))\n",
        "      num2= int(input(\"Digite o último número do seu RU:\"))\n",
        "      result = cal.multiplicar(num1, num2)\n",
        "      print(f\"O valor da operação multiplicação é {result}\")\n",
        "      calcular = continuar(input(\"Digite alguma coisa para continuar ou apertar ENTER para sair da calculadora.\"))\n",
        "\n",
        "    if opc== 4:\n",
        "      num1= int(input(\"Digite o penúltimo número do seu RU:\"))\n",
        "      num2= int(input(\"Digite o último número do seu RU:\"))\n",
        "      result = cal.dividir(num1, num2)\n",
        "      print(f\"O valor da operação divisão é {result}\")\n",
        "      calcular = continuar(input(\"Digite alguma coisa para continuar ou apertar ENTER para sair da calculadora.\"))\n",
        "\n",
        "    if opc== 5:\n",
        "      num1= int(input(\"Digite o penúltimo número do seu RU:\"))\n",
        "      num2= int(input(\"Digite o último número do seu RU:\"))\n",
        "      result = cal.expoente(num1, num2)\n",
        "      print(f\"O valor da operação expoenciação é {result}\")\n",
        "      calcular = continuar(input(\"Digite alguma coisa para continuar ou apertar ENTER para sair da calculadora.\"))\n",
        "\n",
        "    if opc== 6:\n",
        "      num1= int(input(\"Digite o penúltimo número do seu RU:\"))\n",
        "      num2= int(input(\"Digite o último número do seu RU:\"))\n",
        "      result = cal.resto(num1, num2)\n",
        "      print(f\"O valor da operação módulo é {result}\")\n",
        "      calcular = continuar(input(\"Digite alguma coisa para continuar ou apertar ENTER para sair da calculadora.\"))\n",
        "      print(\"Cálculo encerrado\")\n",
        "\n"
      ]
    },
    {
      "cell_type": "code",
      "execution_count": null,
      "metadata": {
        "colab": {
          "background_save": true,
          "base_uri": "https://localhost:8080/"
        },
        "id": "_bQzuKASddX5",
        "outputId": "239e785a-5de8-4eed-c52f-b660c1d17262"
      },
      "outputs": [
        {
          "name": "stdout",
          "output_type": "stream",
          "text": [
            "Qual é a operação matemática desejada?\n",
            "    1-> Adição\n",
            "    2-> Subtração\n",
            "    3-> Multiplicação\n",
            "    4-> Divisão\n",
            "    5-> Exponenciação\n",
            "    6-> Módulo(resto)\n",
            "    Digite o número desejado e apaerter ENTER\n"
          ]
        }
      ],
      "source": [
        "menu()"
      ]
    }
  ],
  "metadata": {
    "colab": {
      "provenance": [],
      "authorship_tag": "ABX9TyMXizI/b35ZQxxrMb0eCR+x",
      "include_colab_link": true
    },
    "kernelspec": {
      "display_name": "Python 3",
      "name": "python3"
    },
    "language_info": {
      "name": "python"
    }
  },
  "nbformat": 4,
  "nbformat_minor": 0
}
